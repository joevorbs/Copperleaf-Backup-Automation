{
 "cells": [
  {
   "cell_type": "code",
   "execution_count": 802,
   "metadata": {},
   "outputs": [],
   "source": [
    "#Import packages\n",
    "import pandas as pd\n",
    "import numpy as np\n",
    "from selenium import webdriver\n",
    "from selenium.webdriver.common.keys import Keys\n",
    "from selenium.webdriver.support.ui import WebDriverWait\n",
    "from selenium.webdriver.support import expected_conditions as EC\n",
    "from selenium.webdriver.common.action_chains import ActionChains\n",
    "from selenium.webdriver.common.by import By\n",
    "from selenium.common.exceptions import NoSuchElementException\n",
    "from bs4 import BeautifulSoup\n",
    "import shutil\n",
    "import os\n",
    "import time\n",
    "import win32com.client"
   ]
  },
  {
   "cell_type": "code",
   "execution_count": 803,
   "metadata": {},
   "outputs": [],
   "source": [
    "#Copperleaf username and password\n",
    "username = 'vorbeckj'\n",
    "password = '#'"
   ]
  },
  {
   "cell_type": "code",
   "execution_count": 804,
   "metadata": {},
   "outputs": [],
   "source": [
    "#Copperleaf region codes\n",
    "regions = ['bos','col','kedli','kedny','ri','ups']"
   ]
  },
  {
   "cell_type": "code",
   "execution_count": 805,
   "metadata": {},
   "outputs": [],
   "source": [
    "#Read in list of investments to check by region\n",
    "investments = pd.read_excel('C:/users/vorbej1/desktop/test.xlsx',sheet_name='Rhode Island', skiprows=3)"
   ]
  },
  {
   "cell_type": "code",
   "execution_count": 806,
   "metadata": {},
   "outputs": [],
   "source": [
    "#Drop NAs - excel formatting issue\n",
    "investments = investments.dropna(subset=['Investment Name']) "
   ]
  },
  {
   "cell_type": "code",
   "execution_count": 807,
   "metadata": {},
   "outputs": [],
   "source": [
    "#Initalize dataframe\n",
    "backup_check = pd.DataFrame()\n",
    "backup_check['Investments'] = investments['Investment Name']\n",
    "backup_check['yes/no'] = ''"
   ]
  },
  {
   "cell_type": "code",
   "execution_count": 808,
   "metadata": {},
   "outputs": [],
   "source": [
    "#Load Webdriver\n",
    "driver = webdriver.Chrome('C:/Users/vorbej1/desktop/chromedriver.exe')"
   ]
  },
  {
   "cell_type": "code",
   "execution_count": 809,
   "metadata": {},
   "outputs": [],
   "source": [
    "#Load C55\n",
    "driver.get('https://ngg-prod.copperleafgroup.com/NGG_PROD/Copperleaf5/Pages/Home/Views/Home.aspx')"
   ]
  },
  {
   "cell_type": "code",
   "execution_count": 810,
   "metadata": {},
   "outputs": [],
   "source": [
    "#Send username and password\n",
    "driver.find_element_by_id('username').send_keys(username)\n",
    "driver.find_element_by_id('password').send_keys(password)"
   ]
  },
  {
   "cell_type": "code",
   "execution_count": 811,
   "metadata": {},
   "outputs": [],
   "source": [
    "#Submit\n",
    "driver.find_element_by_xpath('//input[@tabindex=\"4\"]').click()\n",
    "time.sleep(5)"
   ]
  },
  {
   "cell_type": "code",
   "execution_count": 812,
   "metadata": {},
   "outputs": [],
   "source": [
    "#Select investment search\n",
    "driver.find_element_by_xpath('//a[@title=\"Search for investments using the advanced search features\"]').click()\n",
    "time.sleep(5)"
   ]
  },
  {
   "cell_type": "code",
   "execution_count": 813,
   "metadata": {},
   "outputs": [],
   "source": [
    "#Remove filter if applied       \n",
    "try:\n",
    "    driver.find_element_by_class_name(\"cl-master__search-button--clear-filter\").click()\n",
    "except:\n",
    "    pass\n",
    "\n",
    "time.sleep(1.5)"
   ]
  },
  {
   "cell_type": "code",
   "execution_count": 814,
   "metadata": {},
   "outputs": [],
   "source": [
    "#Filter to region in focus\n",
    "driver.find_elements_by_xpath('//a[@tabindex=\"-1\"]')[2].click()\n",
    "time.sleep(2)\n",
    "\n",
    "region_filter = driver.find_element_by_xpath('//li[@class=\"k-item k-filter-item k-state-default\"]')\n",
    "hover = ActionChains(driver).move_to_element(region_filter)\n",
    "hover.perform()\n",
    "\n",
    "filter_form = driver.find_element_by_xpath('//input[@title=\"Value\"]')\n",
    "time.sleep(1)\n",
    "\n",
    "filter_form.send_keys(regions[4])\n",
    "filter_form.send_keys(Keys.RETURN)"
   ]
  },
  {
   "cell_type": "code",
   "execution_count": 815,
   "metadata": {},
   "outputs": [],
   "source": [
    "#For each investment in the excel file, search the database\n",
    "#Depending on if investment has its backup data, assign yes/no\n",
    "#Assign n/a to investments not in the database\n",
    "#Write to csv for emailer\n",
    "\n",
    "for i in backup_check.Investments:\n",
    "    #print(i)\n",
    "    joe = driver.find_element_by_class_name('k-input')\n",
    "    joe.send_keys(i)\n",
    "    joe.send_keys(Keys.RETURN)\n",
    "    time.sleep(1.5)\n",
    "    try:\n",
    "        driver.find_element_by_link_text(i).click()\n",
    "        time.sleep(2)\n",
    "        driver.find_element_by_xpath('//span[@class=\"k-sprite k-icon cl-k__icon--attachment\"]').click()\n",
    "        html = driver.page_source\n",
    "        if \"Backup\" in html:\n",
    "            backup_check['yes/no'] = 'yes'\n",
    "        else:\n",
    "            backup_check['yes/no'] = 'no'\n",
    "        driver.execute_script(\"window.history.go(-1)\")\n",
    "        time.sleep(1.5)\n",
    "    except:\n",
    "        time.sleep(1)\n",
    "        backup_check['yes/no'] = 'n/a'\n",
    "        joe.clear()"
   ]
  },
  {
   "cell_type": "code",
   "execution_count": 816,
   "metadata": {},
   "outputs": [],
   "source": [
    "#Write dataframe to csv\n",
    "backup_check.to_csv('C:/Users/vorbej1/desktop/backup_check_ri.csv', sep=',')"
   ]
  },
  {
   "cell_type": "code",
   "execution_count": 820,
   "metadata": {},
   "outputs": [],
   "source": [
    "#Emailer\n",
    "win32c = win32com.client.constants\n",
    "app = win32com.client.Dispatch(\"Excel.Application\")\n",
    "\n",
    "outlook = win32com.client.Dispatch('outlook.application')\n",
    "mail = outlook.CreateItem(0)\n",
    "mail.To = 'joseph.vorbeck@nationalgrid.com'\n",
    "mail.Subject = 'test'\n",
    "\n",
    "attachment = mail.Attachments.Add('C:/Users/vorbej1/desktop/backup_check_ri.csv')\n",
    "\n",
    "mail.HTMLBody = \"\\<html>\\\n",
    "<head>\\\n",
    "<meta http-equiv=\"\"Content-Type\"\" content=\"\"text/html; charset=iso-8859-1\"\">\\\n",
    "\\\n",
    "<style type=\"\"text/css\"\">\\\n",
    "<!--\\\n",
    "\\\n",
    "body { font-size: 20pt font-family: sans-serif; }\\\n",
    "\\\n",
    "-->\\\n",
    "</style>\\\n",
    "</head>\\\n",
    "<body>\\\n",
    "      Hello\\\n",
    "</body>\\\n",
    "</html>\"\n",
    "\n",
    "mail.Send()\n",
    "\n",
    "print('Email Complete')"
   ]
  }
 ],
 "metadata": {
  "kernelspec": {
   "display_name": "Python 3",
   "language": "python",
   "name": "python3"
  },
  "language_info": {
   "codemirror_mode": {
    "name": "ipython",
    "version": 3
   },
   "file_extension": ".py",
   "mimetype": "text/x-python",
   "name": "python",
   "nbconvert_exporter": "python",
   "pygments_lexer": "ipython3",
   "version": "3.7.1"
  }
 },
 "nbformat": 4,
 "nbformat_minor": 2
}
