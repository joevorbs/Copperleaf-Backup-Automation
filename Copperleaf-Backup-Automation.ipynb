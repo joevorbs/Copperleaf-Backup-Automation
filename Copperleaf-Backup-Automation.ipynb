{
 "cells": [
  {
   "cell_type": "code",
   "execution_count": 212,
   "metadata": {},
   "outputs": [],
   "source": [
    "#Import packages\n",
    "import pandas as pd\n",
    "import numpy as np\n",
    "from selenium import webdriver\n",
    "from selenium.webdriver.common.keys import Keys\n",
    "from selenium.webdriver.support.ui import WebDriverWait\n",
    "from selenium.webdriver.support import expected_conditions as EC\n",
    "from selenium.webdriver.common.action_chains import ActionChains\n",
    "from selenium.webdriver.common.by import By\n",
    "from selenium.common.exceptions import NoSuchElementException\n",
    "import shutil\n",
    "import time\n",
    "import win32com.client"
   ]
  },
  {
   "cell_type": "code",
   "execution_count": 213,
   "metadata": {},
   "outputs": [],
   "source": [
    "#Todays date\n",
    "TodaysDate = time.strftime(\"%#m.%d.%Y\")"
   ]
  },
  {
   "cell_type": "code",
   "execution_count": 214,
   "metadata": {},
   "outputs": [],
   "source": [
    "#Copperleaf username and password\n",
    "username = 'vorbeckj'\n",
    "password = '#'"
   ]
  },
  {
   "cell_type": "code",
   "execution_count": 215,
   "metadata": {},
   "outputs": [],
   "source": [
    "#Copperleaf region codes\n",
    "regions = ['bos','col','kedli','kedny','ri','ups']"
   ]
  },
  {
   "cell_type": "code",
   "execution_count": 216,
   "metadata": {},
   "outputs": [],
   "source": [
    "#Read in list of investments\n",
    "investments = pd.read_excel('C:/users/vorbej1/desktop/nyc_backup.xlsx',sheet_name='KEDNY', skiprows=3)"
   ]
  },
  {
   "cell_type": "code",
   "execution_count": 217,
   "metadata": {},
   "outputs": [],
   "source": [
    "#Drop NAs - excel formatting issue\n",
    "investments = investments.dropna(subset=['Investment Name']) "
   ]
  },
  {
   "cell_type": "code",
   "execution_count": 218,
   "metadata": {},
   "outputs": [],
   "source": [
    "#Initalize dataframe\n",
    "backup_check = pd.DataFrame()\n",
    "backup_check['Investments'] = investments['Investment Name']\n",
    "backup_check['yes/no'] = ''"
   ]
  },
  {
   "cell_type": "code",
   "execution_count": 219,
   "metadata": {},
   "outputs": [],
   "source": [
    "#Load Webdriver\n",
    "driver = webdriver.Chrome('C:/Users/vorbej1/desktop/chromedriver.exe')"
   ]
  },
  {
   "cell_type": "code",
   "execution_count": 220,
   "metadata": {},
   "outputs": [],
   "source": [
    "#Load C55\n",
    "driver.get('https://ngg-prod.copperleafgroup.com/NGG_PROD/Copperleaf5/Pages/Home/Views/Home.aspx')"
   ]
  },
  {
   "cell_type": "code",
   "execution_count": 221,
   "metadata": {},
   "outputs": [],
   "source": [
    "#Send username and password\n",
    "driver.find_element_by_id('username').send_keys(username)\n",
    "driver.find_element_by_id('password').send_keys(password)"
   ]
  },
  {
   "cell_type": "code",
   "execution_count": 222,
   "metadata": {},
   "outputs": [],
   "source": [
    "#Submit\n",
    "driver.find_element_by_xpath('//input[@tabindex=\"4\"]').click()\n",
    "time.sleep(5)"
   ]
  },
  {
   "cell_type": "code",
   "execution_count": 223,
   "metadata": {},
   "outputs": [],
   "source": [
    "#Select investment search\n",
    "driver.find_element_by_xpath('//a[@title=\"Search for investments using the advanced search features\"]').click()\n",
    "time.sleep(5)"
   ]
  },
  {
   "cell_type": "code",
   "execution_count": 224,
   "metadata": {},
   "outputs": [],
   "source": [
    "#Remove filter if applied       \n",
    "try:\n",
    "    driver.find_element_by_class_name(\"cl-master__search-button--clear-filter\").click()\n",
    "except:\n",
    "    pass\n",
    "\n",
    "time.sleep(1.5)"
   ]
  },
  {
   "cell_type": "code",
   "execution_count": 225,
   "metadata": {},
   "outputs": [],
   "source": [
    "#Locate filter button and apply filter to region in focus\n",
    "driver.find_elements_by_xpath('//a[@tabindex=\"-1\"]')[2].click()\n",
    "time.sleep(2)\n",
    "\n",
    "region_filter = driver.find_element_by_xpath('//li[@class=\"k-item k-filter-item k-state-default\"]')\n",
    "hover = ActionChains(driver).move_to_element(region_filter)\n",
    "hover.perform()\n",
    "\n",
    "filter_form = driver.find_element_by_xpath('//input[@title=\"Value\"]')\n",
    "time.sleep(1)\n",
    "\n",
    "filter_form.send_keys(regions[3])\n",
    "filter_form.send_keys(Keys.RETURN)"
   ]
  },
  {
   "cell_type": "code",
   "execution_count": 226,
   "metadata": {},
   "outputs": [],
   "source": [
    "#For each investment in the excel file, search the database\n",
    "#Depending on if investment has its backup data, assign yes/no\n",
    "#Assign n/a to investments not in the database\n",
    "for i in backup_check.index:\n",
    "    #print(i)\n",
    "    search_bar = driver.find_element_by_class_name('k-input')\n",
    "    search_bar.send_keys(backup_check.loc[i,'Investments'])\n",
    "    search_bar.send_keys(Keys.RETURN)\n",
    "    time.sleep(.5)\n",
    "    try:\n",
    "        driver.find_element_by_link_text(backup_check.loc[i,'Investments']).click()\n",
    "        time.sleep(1)\n",
    "        driver.find_element_by_xpath('//span[@class=\"k-sprite k-icon cl-k__icon--attachment\"]').click()\n",
    "        time.sleep(1.5)\n",
    "        if driver.find_elements_by_xpath(\"//span[contains(text(), 'Backup')]\") and driver.find_elements_by_xpath(\"//span[contains(text(), '2019')]\"):\n",
    "            backup_check.loc[i, 'yes/no'] = 'yes'\n",
    "        else:\n",
    "            backup_check.loc[i, 'yes/no'] = 'no'\n",
    "        driver.execute_script(\"window.history.go(-1)\")\n",
    "        time.sleep(2)\n",
    "    except:\n",
    "        time.sleep(1)\n",
    "        backup_check.loc[i, 'yes/no'] = 'n/a'\n",
    "        search_bar.clear()"
   ]
  },
  {
   "cell_type": "code",
   "execution_count": 227,
   "metadata": {},
   "outputs": [],
   "source": [
    "#Write dataframe to csv for emailer\n",
    "backup_check.to_csv('C:/Users/vorbej1/desktop/backup_check.csv', sep=',')"
   ]
  },
  {
   "cell_type": "code",
   "execution_count": 229,
   "metadata": {},
   "outputs": [],
   "source": [
    "#Emailer\n",
    "outlook = win32com.client.Dispatch('outlook.application')\n",
    "mail = outlook.CreateItem(0)\n",
    "mail.To = '#'\n",
    "mail.Subject = 'C55 Backup Checks ' + TodaysDate  \n",
    "\n",
    "attachment = mail.Attachments.Add('C:/Users/vorbej1/desktop/backup_check.csv')\n",
    "\n",
    "mail.HTMLBody = \"\\<html>\\\n",
    "<head>\\\n",
    "<meta http-equiv=\"\"Content-Type\"\" content=\"\"text/html; charset=iso-8859-1\"\">\\\n",
    "\\\n",
    "<style type=\"\"text/css\"\">\\\n",
    "<!--\\\n",
    "\\\n",
    "body { font-size: 20pt font-family: sans-serif; }\\\n",
    "\\\n",
    "-->\\\n",
    "</style>\\\n",
    "</head>\\\n",
    "<body>\\\n",
    "    Hello\\\n",
    "</body>\\\n",
    "</html>\"\n",
    "\n",
    "mail.Send()\n",
    "\n",
    "print('Email Complete')"
   ]
  }
 ],
 "metadata": {
  "kernelspec": {
   "display_name": "Python 3",
   "language": "python",
   "name": "python3"
  },
  "language_info": {
   "codemirror_mode": {
    "name": "ipython",
    "version": 3
   },
   "file_extension": ".py",
   "mimetype": "text/x-python",
   "name": "python",
   "nbconvert_exporter": "python",
   "pygments_lexer": "ipython3",
   "version": "3.7.1"
  }
 },
 "nbformat": 4,
 "nbformat_minor": 2
}
